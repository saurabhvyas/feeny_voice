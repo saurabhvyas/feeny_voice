{
 "cells": [
  {
   "cell_type": "code",
   "execution_count": 1,
   "metadata": {
    "collapsed": true
   },
   "outputs": [],
   "source": [
    "# this module expects subtitles of a video downloaded already "
   ]
  },
  {
   "cell_type": "code",
   "execution_count": 5,
   "metadata": {
    "collapsed": true
   },
   "outputs": [],
   "source": [
    "import subprocess\n",
    "#import shlex\n",
    "from subprocess import Popen,PIPE"
   ]
  },
  {
   "cell_type": "code",
   "execution_count": 6,
   "metadata": {
    "collapsed": true
   },
   "outputs": [],
   "source": [
    "# for saving .txt files\n",
    "base_path='/home/saurabh/feeny_dataset/data/generated/'"
   ]
  },
  {
   "cell_type": "code",
   "execution_count": null,
   "metadata": {},
   "outputs": [
    {
     "name": "stdout",
     "output_type": "stream",
     "text": [
      "168\n",
      "so Gutenberg invented the printing press\n",
      "\n",
      "do you wanna keep it ? Ans: 0(no) or 1(yes)1\n",
      "00:00:03.170   00:00:06.850\n",
      "making the written word available to the\n",
      "\n",
      "do you wanna keep it ? Ans: 0(no) or 1(yes)1\n",
      "00:00:06.850   00:00:09.320\n",
      "masses for the first time in history the\n",
      "\n",
      "do you wanna keep it ? Ans: 0(no) or 1(yes)1\n",
      "00:00:09.320   00:00:12.860\n",
      "common man had access to the same\n",
      "\n",
      "do you wanna keep it ? Ans: 0(no) or 1(yes)1\n",
      "00:00:12.860   00:00:14.900\n",
      "information that used to be available\n",
      "\n",
      "do you wanna keep it ? Ans: 0(no) or 1(yes)1\n",
      "00:00:14.900   00:00:17.390\n",
      "only to the privileged few and how would\n",
      "\n",
      "do you wanna keep it ? Ans: 0(no) or 1(yes)0\n",
      "you like me to make this out to my\n",
      "\n",
      "do you wanna keep it ? Ans: 0(no) or 1(yes)0\n",
      "darling gentlemen might I interrupt your\n",
      "\n",
      "do you wanna keep it ? Ans: 0(no) or 1(yes)1\n",
      "00:00:22.009   00:00:25.820\n",
      "press junket there's some learning going\n",
      "\n",
      "do you wanna keep it ? Ans: 0(no) or 1(yes)1\n",
      "00:00:25.820   00:00:28.070\n",
      "on here hmm maybe you feel it's\n",
      "\n",
      "do you wanna keep it ? Ans: 0(no) or 1(yes)0\n",
      "important to learn that Gutenberg\n",
      "\n",
      "do you wanna keep it ? Ans: 0(no) or 1(yes)0\n",
      "invented the printing press but pop\n",
      "\n",
      "do you wanna keep it ? Ans: 0(no) or 1(yes)0\n",
      "culture and these pouty lips have made\n",
      "\n",
      "do you wanna keep it ? Ans: 0(no) or 1(yes)0\n",
      "me a star I'm gonna try to put this as\n",
      "\n",
      "do you wanna keep it ? Ans: 0(no) or 1(yes)0\n",
      "kindly as possible the show has turned\n",
      "\n",
      "do you wanna keep it ? Ans: 0(no) or 1(yes)1\n",
      "00:00:43.579   00:00:46.910\n",
      "into a circus and you three are driving\n",
      "\n",
      "do you wanna keep it ? Ans: 0(no) or 1(yes)1\n",
      "00:00:46.910   00:00:50.510\n",
      "the tiny car mr. Feeny ah I mean I'm\n",
      "\n"
     ]
    }
   ],
   "source": [
    "srt_filename = '/home/saurabh/feeny_dataset/data/feeny.srt'\n",
    "\n",
    "num_lines = sum(1 for line in open(srt_filename))\n",
    "\n",
    "print(num_lines)\n",
    "\n",
    "with open(srt_filename, 'r') as infile:\n",
    "    lines = [line for line in infile]\n",
    "    for i in range(2, num_lines, 4):\n",
    "        \n",
    "        print(lines[i])\n",
    "        response=input('do you wanna keep it ? Ans: 0(no) or 1(yes)')\n",
    "        if response == '1':\n",
    "            temp=lines[i-1].strip('\\n')\n",
    "            start_time = temp.split(\"-\",1)[0].replace(',','.')\n",
    "            end_time = temp.split(\"-->\",1)[1].replace(',','.')\n",
    "            print(start_time , end_time)\n",
    "           \n",
    "            with open(base_path + \"feeny_\" + str(i) + '.txt', \"w\") as text_file:\n",
    "                text_file.write(lines[i])\n",
    "            \n",
    "            output = subprocess.check_output(['/home/saurabh/feeny_dataset/trim.sh',str(start_time),str(end_time), str(i)])\n",
    "            #print(output)\n",
    "            \n",
    "            #print(result)"
   ]
  },
  {
   "cell_type": "code",
   "execution_count": null,
   "metadata": {
    "collapsed": true
   },
   "outputs": [],
   "source": []
  },
  {
   "cell_type": "code",
   "execution_count": null,
   "metadata": {
    "collapsed": true
   },
   "outputs": [],
   "source": []
  }
 ],
 "metadata": {
  "kernelspec": {
   "display_name": "Python [default]",
   "language": "python",
   "name": "python3"
  },
  "language_info": {
   "codemirror_mode": {
    "name": "ipython",
    "version": 3
   },
   "file_extension": ".py",
   "mimetype": "text/x-python",
   "name": "python",
   "nbconvert_exporter": "python",
   "pygments_lexer": "ipython3",
   "version": "3.6.1"
  }
 },
 "nbformat": 4,
 "nbformat_minor": 2
}
