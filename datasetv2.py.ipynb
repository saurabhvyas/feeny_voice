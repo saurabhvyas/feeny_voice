{
 "cells": [
  {
   "cell_type": "code",
   "execution_count": null,
   "metadata": {
    "collapsed": true
   },
   "outputs": [],
   "source": [
    "# this module expects subtitles of a video downloaded already "
   ]
  },
  {
   "cell_type": "code",
   "execution_count": 1,
   "metadata": {
    "collapsed": true
   },
   "outputs": [],
   "source": [
    "import subprocess\n",
    "#import shlex\n",
    "from subprocess import Popen,PIPE"
   ]
  },
  {
   "cell_type": "code",
   "execution_count": null,
   "metadata": {},
   "outputs": [
    {
     "name": "stdout",
     "output_type": "stream",
     "text": [
      "168\n",
      "so Gutenberg invented the printing press\n",
      "\n",
      "do you wanna keep it ? Ans: 0(no) or 1(yes)1\n",
      "00:00:03.170   00:00:06.850\n",
      "b'00:00:03.170 \\n'\n",
      "making the written word available to the\n",
      "\n",
      "do you wanna keep it ? Ans: 0(no) or 1(yes)1\n",
      "00:00:06.850   00:00:09.320\n",
      "b'00:00:06.850 \\n'\n",
      "masses for the first time in history the\n",
      "\n",
      "do you wanna keep it ? Ans: 0(no) or 1(yes)1\n",
      "00:00:09.320   00:00:12.860\n",
      "b'00:00:09.320 \\n'\n",
      "common man had access to the same\n",
      "\n"
     ]
    }
   ],
   "source": [
    "srt_filename = '/media/saurabh/New Volume/feeny_dataset/data/feeny.srt'\n",
    "\n",
    "num_lines = sum(1 for line in open(srt_filename))\n",
    "\n",
    "print(num_lines)\n",
    "\n",
    "with open(srt_filename, 'r') as infile:\n",
    "    lines = [line for line in infile]\n",
    "    for i in range(2, num_lines, 4):\n",
    "        \n",
    "        print(lines[i])\n",
    "        response=input('do you wanna keep it ? Ans: 0(no) or 1(yes)')\n",
    "        if response == '1':\n",
    "            temp=lines[i-1].strip('\\n')\n",
    "            start_time = temp.split(\"-\",1)[0].replace(',','.')\n",
    "            end_time = temp.split(\"-->\",1)[1].replace(',','.')\n",
    "            print(start_time , end_time)\n",
    "            # call shell script \n",
    "            #result=subprocess.call(shlex.split('/media/saurabh/New\\ Volume/feeny_dataset/trim.sh ' + str(start_time) + \" \" + str(end_time) + \" \" + str(i)))\n",
    "           # Process=Popen(['/home/saurabh/feeny_dataset/trim.sh %s %s %s',str(start_time),str(end_time), str(i)],shell=True,stdin=PIPE,stderr=PIPE)\n",
    "            #print(Process.communicate()) #now you should see your output\n",
    "            \n",
    "            output = subprocess.check_output(['/home/saurabh/feeny_dataset/trim.sh',str(start_time),str(end_time), str(i)])\n",
    "            print(output)\n",
    "            \n",
    "            #print(result)"
   ]
  },
  {
   "cell_type": "code",
   "execution_count": null,
   "metadata": {
    "collapsed": true
   },
   "outputs": [],
   "source": [
    "name=input('whats your name ?')\n",
    "print(name)"
   ]
  },
  {
   "cell_type": "code",
   "execution_count": null,
   "metadata": {
    "collapsed": true
   },
   "outputs": [],
   "source": []
  }
 ],
 "metadata": {
  "kernelspec": {
   "display_name": "Python [default]",
   "language": "python",
   "name": "python3"
  },
  "language_info": {
   "codemirror_mode": {
    "name": "ipython",
    "version": 3
   },
   "file_extension": ".py",
   "mimetype": "text/x-python",
   "name": "python",
   "nbconvert_exporter": "python",
   "pygments_lexer": "ipython3",
   "version": "3.6.1"
  }
 },
 "nbformat": 4,
 "nbformat_minor": 2
}
