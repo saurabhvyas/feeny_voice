{
 "cells": [
  {
   "cell_type": "code",
   "execution_count": 1,
   "metadata": {
    "collapsed": true
   },
   "outputs": [],
   "source": [
    "# this shall create a dictionary.txt file from a .srt file , dictionary will be input to ctc speech script along with\n",
    "# the dataset "
   ]
  },
  {
   "cell_type": "code",
   "execution_count": 2,
   "metadata": {
    "collapsed": true
   },
   "outputs": [],
   "source": [
    "\n",
    "  from sys import argv\n",
    "\n",
    "state = -1\n",
    "text_lines = []\n",
    "with open(argv[1],\"r\") as f:\n",
    "\tfor line in f.readlines():\n",
    "\t\tif (line==\"\\n\"):\n",
    "\t\t\tstate = -1\n",
    "\t\t\tcontinue\n",
    "\t\telif state==1:\n",
    "\t\t\ttext_lines.append(line.strip())\n",
    "\t\telse:\n",
    "\t\t\tstate += 1\n",
    "\n",
    "\n",
    "with open( argv[1], 'w') as f:\n",
    "f.write(\" \".join(text_lines))\n"
   ]
  },
  {
   "cell_type": "code",
   "execution_count": null,
   "metadata": {
    "collapsed": true
   },
   "outputs": [],
   "source": []
  },
  {
   "cell_type": "code",
   "execution_count": null,
   "metadata": {
    "collapsed": true
   },
   "outputs": [],
   "source": []
  }
 ],
 "metadata": {
  "kernelspec": {
   "display_name": "Python [default]",
   "language": "python",
   "name": "python3"
  },
  "language_info": {
   "codemirror_mode": {
    "name": "ipython",
    "version": 3
   },
   "file_extension": ".py",
   "mimetype": "text/x-python",
   "name": "python",
   "nbconvert_exporter": "python",
   "pygments_lexer": "ipython3",
   "version": "3.6.1"
  }
 },
 "nbformat": 4,
 "nbformat_minor": 2
}
